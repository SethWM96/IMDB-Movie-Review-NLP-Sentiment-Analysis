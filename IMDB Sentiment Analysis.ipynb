{
 "cells": [
  {
   "cell_type": "markdown",
   "id": "9af45d9d-b951-4195-b5bf-21c0ccc8d9cf",
   "metadata": {},
   "source": [
    "# IMDB Review Sentiment Analysis"
   ]
  },
  {
   "cell_type": "code",
   "execution_count": 73,
   "id": "653680f5-2e7a-4199-8aa3-505c5587d667",
   "metadata": {
    "tags": []
   },
   "outputs": [
    {
     "data": {
      "text/plain": [
       "'C:\\\\Users\\\\sethw\\\\Desktop\\\\Caltech Bootcamp\\\\NLP\\\\Lesson 10\\\\10.02 Demo RNN 1 - Build Model'"
      ]
     },
     "execution_count": 73,
     "metadata": {},
     "output_type": "execute_result"
    }
   ],
   "source": [
    "pwd"
   ]
  },
  {
   "cell_type": "code",
   "execution_count": 1,
   "id": "64473ad0",
   "metadata": {},
   "outputs": [],
   "source": [
    "#importing relevant libraries\n",
    "import keras\n",
    "from keras.datasets import imdb  \n",
    "from keras.preprocessing.sequence import pad_sequences  \n",
    "from keras.models import Sequential\n",
    "from keras.layers import Dense, Flatten, Dropout\n",
    "from keras.layers import Embedding  \n",
    "from keras.callbacks import ModelCheckpoint  \n",
    "import os  \n",
    "from sklearn.metrics import roc_auc_score, roc_curve  \n",
    "import pandas as pd\n",
    "import matplotlib.pyplot as plt  \n",
    "%matplotlib inline"
   ]
  },
  {
   "cell_type": "markdown",
   "id": "8f245336-ce9e-483f-b23c-e3b5bcbe683b",
   "metadata": {},
   "source": [
    "## NLP Sentiment Analysis with Dense Layers"
   ]
  },
  {
   "cell_type": "code",
   "execution_count": 2,
   "id": "ebf1ec41",
   "metadata": {},
   "outputs": [],
   "source": [
    "# output directory\n",
    "'''\n",
    "This specifies the output directory where model files, checkpoints, \n",
    "etc will be saved during and after training. Here it is set to a \n",
    "directory called 'model_output/dense'.\n",
    "'''\n",
    "output_dir = 'model_output/dense'\n",
    "\n",
    "# training:\n",
    "'''\n",
    "This sets the number of epochs (full passes through the training data) to 4. \n",
    "So the model will be trained for 4 epochs.\n",
    "'''\n",
    "epochs = 4\n",
    "'''\n",
    "This defines the batch size, which is the number of samples processed \n",
    "at a time before updating the model weights. Here the batch size is 128.\n",
    "'''\n",
    "batch_size = 128\n",
    "\n",
    "#embedding layer\n",
    "'''\n",
    "This sets the dimension of the embedding vectors to 64. Each word will \n",
    "be represented by a 64-dimensional vector.\n",
    "'''\n",
    "n_dim = 64\n",
    "'''\n",
    "This specifies the vocabulary size, meaning there are 5000 \n",
    "unique words to be embedded.\n",
    "'''\n",
    "n_unique_words = 5000\n",
    "'''\n",
    "This indicates that the 50 most common words (like 'the', 'a', etc) \n",
    "should be skipped and not embedded. This helps reduce dimensionality.\n",
    "'''\n",
    "n_words_to_skip = 50\n",
    "'''\n",
    "This sets the maximum length of each text sample to 100 words. \n",
    "Reviews longer than 100 words will be truncated.\n",
    "'''\n",
    "max_review_length = 100\n",
    "'''\n",
    "This indicates that padding and truncation should happen at the \n",
    "beginning of the sequences. So sequences will be padded with zeros \n",
    "or truncated from the start to reach the max length.\n",
    "'''\n",
    "pad_type = trunc_type = 'pre'\n",
    "\n",
    "#dense layers parameters\n",
    "'''\n",
    "This sets the number of units in dense layers to 64. Dense layers are fully \n",
    "connected layers where each node is connected to all nodes in the previous layer. \n",
    "So this indicates the dense layers should have 64 nodes.\n",
    "'''\n",
    "n_dense = 64\n",
    "'''\n",
    "Dropout is a regularization technique where a percentage of node connections are randomly \n",
    "dropped during training. This prevents overfitting. Here dropout is set to 0.5, meaning \n",
    "50% of connections will be randomly dropped during training.\n",
    "'''\n",
    "dropout = 0.5"
   ]
  },
  {
   "cell_type": "code",
   "execution_count": 3,
   "id": "c3b83e28",
   "metadata": {},
   "outputs": [
    {
     "data": {
      "text/plain": [
       "\"\\nBreakdown\\n--> num_words = n_unique_words\\n\\n    This limits the dataset to only the n_unique_words most frequent words found in the data. \\n    Other infrequent words are discarded.\\n\\n--> skip_top = n_words_to_skip\\n\\n    This causes the load_data method to skip loading the top n_words_to_skip most frequent words, \\n    as they are often common words that don't carry much signal (like 'the', 'and', etc).\\n\""
      ]
     },
     "execution_count": 3,
     "metadata": {},
     "output_type": "execute_result"
    }
   ],
   "source": [
    "#loading data and splitting into training and validation sets\n",
    "(x_train, y_train), (x_valid, y_valid) = imdb.load_data(num_words=n_unique_words, \n",
    "                                                        skip_top=n_words_to_skip)\n",
    "\n",
    "'''\n",
    "Breakdown\n",
    "--> num_words = n_unique_words\n",
    "\n",
    "    This limits the dataset to only the n_unique_words most frequent words found in the data. \n",
    "    Other infrequent words are discarded.\n",
    "\n",
    "--> skip_top = n_words_to_skip\n",
    "\n",
    "    This causes the load_data method to skip loading the top n_words_to_skip most frequent words, \n",
    "    as they are often common words that don't carry much signal (like 'the', 'and', etc).\n",
    "'''"
   ]
  },
  {
   "cell_type": "code",
   "execution_count": 4,
   "id": "1305070a",
   "metadata": {},
   "outputs": [
    {
     "data": {
      "text/plain": [
       "array([list([2, 2, 2, 2, 2, 530, 973, 1622, 1385, 65, 458, 4468, 66, 3941, 2, 173, 2, 256, 2, 2, 100, 2, 838, 112, 50, 670, 2, 2, 2, 480, 284, 2, 150, 2, 172, 112, 167, 2, 336, 385, 2, 2, 172, 4536, 1111, 2, 546, 2, 2, 447, 2, 192, 50, 2, 2, 147, 2025, 2, 2, 2, 2, 1920, 4613, 469, 2, 2, 71, 87, 2, 2, 2, 530, 2, 76, 2, 2, 1247, 2, 2, 2, 515, 2, 2, 2, 626, 2, 2, 2, 62, 386, 2, 2, 316, 2, 106, 2, 2, 2223, 2, 2, 480, 66, 3785, 2, 2, 130, 2, 2, 2, 619, 2, 2, 124, 51, 2, 135, 2, 2, 1415, 2, 2, 2, 2, 215, 2, 77, 52, 2, 2, 407, 2, 82, 2, 2, 2, 107, 117, 2, 2, 256, 2, 2, 2, 3766, 2, 723, 2, 71, 2, 530, 476, 2, 400, 317, 2, 2, 2, 2, 1029, 2, 104, 88, 2, 381, 2, 297, 98, 2, 2071, 56, 2, 141, 2, 194, 2, 2, 2, 226, 2, 2, 134, 476, 2, 480, 2, 144, 2, 2, 2, 51, 2, 2, 224, 92, 2, 104, 2, 226, 65, 2, 2, 1334, 88, 2, 2, 283, 2, 2, 4472, 113, 103, 2, 2, 2, 2, 2, 178, 2]),\n",
       "       list([2, 194, 1153, 194, 2, 78, 228, 2, 2, 1463, 4369, 2, 134, 2, 2, 715, 2, 118, 1634, 2, 394, 2, 2, 119, 954, 189, 102, 2, 207, 110, 3103, 2, 2, 69, 188, 2, 2, 2, 2, 2, 249, 126, 93, 2, 114, 2, 2300, 1523, 2, 647, 2, 116, 2, 2, 2, 2, 229, 2, 340, 1322, 2, 118, 2, 2, 130, 4901, 2, 2, 1002, 2, 89, 2, 952, 2, 2, 2, 455, 2, 2, 2, 2, 1543, 1905, 398, 2, 1649, 2, 2, 2, 163, 2, 3215, 2, 2, 1153, 2, 194, 775, 2, 2, 2, 349, 2637, 148, 605, 2, 2, 2, 123, 125, 68, 2, 2, 2, 349, 165, 4362, 98, 2, 2, 228, 2, 2, 2, 1157, 2, 299, 120, 2, 120, 174, 2, 220, 175, 136, 50, 2, 4373, 228, 2, 2, 2, 656, 245, 2350, 2, 2, 2, 131, 152, 491, 2, 2, 2, 2, 1212, 2, 2, 2, 371, 78, 2, 625, 64, 1382, 2, 2, 168, 145, 2, 2, 1690, 2, 2, 2, 1355, 2, 2, 2, 52, 154, 462, 2, 89, 78, 285, 2, 145, 95]),\n",
       "       list([2, 2, 2, 2, 2, 2, 2, 2, 249, 108, 2, 2, 2, 54, 61, 369, 2, 71, 149, 2, 2, 112, 2, 2401, 311, 2, 2, 3711, 2, 75, 2, 1829, 296, 2, 86, 320, 2, 534, 2, 263, 4821, 1301, 2, 1873, 2, 89, 78, 2, 66, 2, 2, 360, 2, 2, 58, 316, 334, 2, 2, 1716, 2, 645, 662, 2, 257, 85, 1200, 2, 1228, 2578, 83, 68, 3912, 2, 2, 165, 1539, 278, 2, 69, 2, 780, 2, 106, 2, 2, 1338, 2, 2, 2, 2, 215, 2, 610, 2, 2, 87, 326, 2, 2300, 2, 2, 2, 2, 272, 2, 57, 2, 2, 2, 2, 2, 2, 2307, 51, 2, 170, 2, 595, 116, 595, 1352, 2, 191, 79, 638, 89, 2, 2, 2, 2, 106, 607, 624, 2, 534, 2, 227, 2, 129, 113]),\n",
       "       list([2, 2, 2, 2, 2, 2804, 2, 2040, 432, 111, 153, 103, 2, 1494, 2, 70, 131, 67, 2, 61, 2, 744, 2, 3715, 761, 61, 2, 452, 2, 2, 985, 2, 2, 59, 166, 2, 105, 216, 1239, 2, 1797, 2, 2, 2, 2, 744, 2413, 2, 2, 2, 687, 2, 2, 2, 2, 2, 3693, 2, 2, 2, 121, 59, 456, 2, 2, 2, 265, 2, 575, 111, 153, 159, 59, 2, 1447, 2, 2, 586, 482, 2, 2, 96, 59, 716, 2, 2, 172, 65, 2, 579, 2, 2, 2, 1615, 2, 2, 2, 2, 2, 2, 2, 2, 2, 2, 464, 2, 314, 2, 2, 2, 719, 605, 2, 2, 202, 2, 310, 2, 3772, 3501, 2, 2722, 58, 2, 2, 537, 2116, 180, 2, 2, 413, 173, 2, 263, 112, 2, 152, 377, 2, 537, 263, 846, 579, 178, 54, 75, 71, 476, 2, 413, 263, 2504, 182, 2, 2, 75, 2306, 922, 2, 279, 131, 2895, 2, 2867, 2, 2, 2, 921, 2, 192, 2, 1219, 3890, 2, 2, 217, 4122, 1710, 537, 2, 1236, 2, 736, 2, 2, 61, 403, 2, 2, 2, 61, 4494, 2, 2, 4494, 159, 90, 263, 2311, 4319, 309, 2, 178, 2, 82, 4319, 2, 65, 2, 2, 145, 143, 2, 2, 2, 537, 746, 537, 537, 2, 2, 2, 2, 594, 2, 2, 94, 2, 3987, 2, 2, 2, 2, 538, 2, 1795, 246, 2, 2, 2, 2, 635, 2, 2, 51, 408, 2, 94, 318, 1382, 2, 2, 2, 2683, 936, 2, 2, 2, 2, 2, 2, 2, 1885, 2, 1118, 2, 80, 126, 842, 2, 2, 2, 2, 4726, 2, 4494, 2, 1550, 3633, 159, 2, 341, 2, 2733, 2, 4185, 173, 2, 90, 2, 2, 2, 2, 2, 1784, 86, 1117, 2, 3261, 2, 2, 2, 2, 2, 2, 2841, 2, 2, 1010, 2, 793, 2, 2, 1386, 1830, 2, 2, 246, 50, 2, 2, 2750, 1944, 746, 90, 2, 2, 2, 124, 2, 882, 2, 882, 496, 2, 2, 2213, 537, 121, 127, 1219, 130, 2, 2, 494, 2, 124, 2, 882, 496, 2, 341, 2, 2, 846, 2, 2, 2, 2, 1906, 2, 97, 2, 236, 2, 1311, 2, 2, 2, 2, 2, 2, 2, 91, 2, 3987, 70, 2, 882, 2, 579, 2, 2, 2, 2, 2, 537, 2, 2, 2, 2, 65, 2, 537, 75, 2, 1775, 3353, 2, 1846, 2, 2, 2, 154, 2, 2, 518, 53, 2, 2, 2, 3211, 882, 2, 399, 2, 75, 257, 3807, 2, 2, 2, 2, 456, 2, 65, 2, 2, 205, 113, 2, 2, 2, 2, 2, 2, 2, 242, 2, 91, 1202, 2, 2, 2070, 307, 2, 2, 2, 126, 93, 2, 2, 2, 188, 1076, 3222, 2, 2, 2, 2, 2348, 537, 2, 53, 537, 2, 82, 2, 2, 2, 2, 2, 280, 2, 219, 2, 2, 431, 758, 859, 2, 953, 1052, 2, 2, 2, 2, 94, 2, 2, 238, 60, 2, 2, 2, 804, 2, 2, 2, 2, 132, 2, 67, 2, 2, 2, 2, 283, 2, 2, 2, 2, 2, 242, 955, 2, 2, 279, 2, 2, 2, 1685, 195, 2, 238, 60, 796, 2, 2, 671, 2, 2804, 2, 2, 559, 154, 888, 2, 726, 50, 2, 2, 2, 2, 566, 2, 579, 2, 64, 2574]),\n",
       "       list([2, 249, 1323, 2, 61, 113, 2, 2, 2, 1637, 2, 2, 56, 2, 2401, 2, 457, 88, 2, 2626, 1400, 2, 3171, 2, 70, 79, 2, 706, 919, 2, 2, 355, 340, 355, 1696, 96, 143, 2, 2, 2, 289, 2, 61, 369, 71, 2359, 2, 2, 2, 131, 2073, 249, 114, 249, 229, 249, 2, 2, 2, 126, 110, 2, 473, 2, 569, 61, 419, 56, 429, 2, 1513, 2, 2, 534, 95, 474, 570, 2, 2, 124, 138, 88, 2, 421, 1543, 52, 725, 2, 61, 419, 2, 2, 1571, 2, 1543, 2, 2, 2, 2, 2, 296, 2, 3524, 2, 2, 421, 128, 74, 233, 334, 207, 126, 224, 2, 562, 298, 2167, 1272, 2, 2601, 2, 516, 988, 2, 2, 79, 120, 2, 595, 2, 784, 2, 3171, 2, 165, 170, 143, 2, 2, 2, 2, 2, 226, 251, 2, 61, 113]),\n",
       "       list([2, 778, 128, 74, 2, 630, 163, 2, 2, 1766, 2, 1051, 2, 2, 85, 156, 2, 2, 148, 139, 121, 664, 665, 2, 2, 1361, 173, 2, 749, 2, 2, 3804, 2, 2, 226, 65, 2, 2, 127, 2, 2, 2, 2])],\n",
       "      dtype=object)"
      ]
     },
     "execution_count": 4,
     "metadata": {},
     "output_type": "execute_result"
    }
   ],
   "source": [
    "#accessing x_train data array\n",
    "'''\n",
    "x_train - This refers to the training data input features. x_train contains \n",
    "encoded movie reviews as integer word indices.\n",
    "\n",
    "So x_train[0:6] will return the first 6 samples from the training data.\n",
    "'''\n",
    "x_train[0:6] "
   ]
  },
  {
   "cell_type": "markdown",
   "id": "cd05edcf-6362-46ff-9325-2409409735d6",
   "metadata": {
    "tags": []
   },
   "source": [
    "## What does the output above ^ represent?\n",
    "- Each list represents a review, total of 6 \n",
    "- The number in the lists represent the following:\n",
    "    - 0: Padding\n",
    "    - 1: Starting Token\n",
    "    - 2: Tokens that occur very frequently across the corpus (top 50)\n",
    "    - 3: The most frequently ocurring word in the corpus\n",
    "    - 4: The second most frequently ocurring word\n",
    "    - 5: The third most frequently docurring word and so on "
   ]
  },
  {
   "cell_type": "code",
   "execution_count": 5,
   "id": "fc5ee800",
   "metadata": {},
   "outputs": [
    {
     "name": "stdout",
     "output_type": "stream",
     "text": [
      "218\n",
      "189\n",
      "141\n",
      "550\n",
      "147\n",
      "43\n"
     ]
    }
   ],
   "source": [
    "#check lengths of reviews:\n",
    "'''\n",
    "Here we are simply checking the lengths. You will see that the rview lengths\n",
    "vary a lot. Padding will be implemented later to make them the same length. \n",
    "'''\n",
    "for x in x_train[0:6]:\n",
    "    print(len(x))"
   ]
  },
  {
   "cell_type": "code",
   "execution_count": 6,
   "id": "51c0fec2",
   "metadata": {},
   "outputs": [
    {
     "data": {
      "text/plain": [
       "array([1, 0, 0, 1, 0, 0], dtype=int64)"
      ]
     },
     "execution_count": 6,
     "metadata": {},
     "output_type": "execute_result"
    }
   ],
   "source": [
    "#accessing y_train data, 0 for negative and 1 for positive\n",
    "y_train[0:6]"
   ]
  },
  {
   "cell_type": "code",
   "execution_count": 7,
   "id": "44d398d8",
   "metadata": {},
   "outputs": [
    {
     "data": {
      "text/plain": [
       "(25000, 25000)"
      ]
     },
     "execution_count": 7,
     "metadata": {},
     "output_type": "execute_result"
    }
   ],
   "source": [
    "#varifying that training and validation sets are split 50/50\n",
    "len(x_train), len(x_valid)"
   ]
  },
  {
   "cell_type": "code",
   "execution_count": 8,
   "id": "05465124",
   "metadata": {},
   "outputs": [],
   "source": [
    "#preprocessing the word index\n",
    "'''\n",
    "Get the word to integer index mapping used in the IMDB dataset.\n",
    "'''\n",
    "word_index = keras.datasets.imdb.get_word_index()\n",
    "'''\n",
    "Shifts the index values by 3, so the lowest index is 3 instead of 0. \n",
    "This reserves 0 for padding, 1 for start, 2 for unknown.\n",
    "'''\n",
    "word_index = {k:(v+3) for k,v in word_index.items()}\n",
    "'''\n",
    "Settingthe integer indexes for the padding, start, and unkown tokens.\n",
    "'''\n",
    "word_index[\"PAD\"] = 0\n",
    "word_index[\"START\"] = 1\n",
    "word_index[\"UNK\"] = 2"
   ]
  },
  {
   "cell_type": "code",
   "execution_count": 9,
   "id": "9fb53d39",
   "metadata": {},
   "outputs": [],
   "source": [
    "#creating a reverse lookup index that maps integer indices to words.\n",
    "index_word = {v:k for k,v in word_index.items()}"
   ]
  },
  {
   "cell_type": "code",
   "execution_count": 10,
   "id": "b3f9c467",
   "metadata": {},
   "outputs": [
    {
     "data": {
      "text/plain": [
       "[2,\n",
       " 2,\n",
       " 2,\n",
       " 2,\n",
       " 2,\n",
       " 530,\n",
       " 973,\n",
       " 1622,\n",
       " 1385,\n",
       " 65,\n",
       " 458,\n",
       " 4468,\n",
       " 66,\n",
       " 3941,\n",
       " 2,\n",
       " 173,\n",
       " 2,\n",
       " 256,\n",
       " 2,\n",
       " 2,\n",
       " 100,\n",
       " 2,\n",
       " 838,\n",
       " 112,\n",
       " 50,\n",
       " 670,\n",
       " 2,\n",
       " 2,\n",
       " 2,\n",
       " 480,\n",
       " 284,\n",
       " 2,\n",
       " 150,\n",
       " 2,\n",
       " 172,\n",
       " 112,\n",
       " 167,\n",
       " 2,\n",
       " 336,\n",
       " 385,\n",
       " 2,\n",
       " 2,\n",
       " 172,\n",
       " 4536,\n",
       " 1111,\n",
       " 2,\n",
       " 546,\n",
       " 2,\n",
       " 2,\n",
       " 447,\n",
       " 2,\n",
       " 192,\n",
       " 50,\n",
       " 2,\n",
       " 2,\n",
       " 147,\n",
       " 2025,\n",
       " 2,\n",
       " 2,\n",
       " 2,\n",
       " 2,\n",
       " 1920,\n",
       " 4613,\n",
       " 469,\n",
       " 2,\n",
       " 2,\n",
       " 71,\n",
       " 87,\n",
       " 2,\n",
       " 2,\n",
       " 2,\n",
       " 530,\n",
       " 2,\n",
       " 76,\n",
       " 2,\n",
       " 2,\n",
       " 1247,\n",
       " 2,\n",
       " 2,\n",
       " 2,\n",
       " 515,\n",
       " 2,\n",
       " 2,\n",
       " 2,\n",
       " 626,\n",
       " 2,\n",
       " 2,\n",
       " 2,\n",
       " 62,\n",
       " 386,\n",
       " 2,\n",
       " 2,\n",
       " 316,\n",
       " 2,\n",
       " 106,\n",
       " 2,\n",
       " 2,\n",
       " 2223,\n",
       " 2,\n",
       " 2,\n",
       " 480,\n",
       " 66,\n",
       " 3785,\n",
       " 2,\n",
       " 2,\n",
       " 130,\n",
       " 2,\n",
       " 2,\n",
       " 2,\n",
       " 619,\n",
       " 2,\n",
       " 2,\n",
       " 124,\n",
       " 51,\n",
       " 2,\n",
       " 135,\n",
       " 2,\n",
       " 2,\n",
       " 1415,\n",
       " 2,\n",
       " 2,\n",
       " 2,\n",
       " 2,\n",
       " 215,\n",
       " 2,\n",
       " 77,\n",
       " 52,\n",
       " 2,\n",
       " 2,\n",
       " 407,\n",
       " 2,\n",
       " 82,\n",
       " 2,\n",
       " 2,\n",
       " 2,\n",
       " 107,\n",
       " 117,\n",
       " 2,\n",
       " 2,\n",
       " 256,\n",
       " 2,\n",
       " 2,\n",
       " 2,\n",
       " 3766,\n",
       " 2,\n",
       " 723,\n",
       " 2,\n",
       " 71,\n",
       " 2,\n",
       " 530,\n",
       " 476,\n",
       " 2,\n",
       " 400,\n",
       " 317,\n",
       " 2,\n",
       " 2,\n",
       " 2,\n",
       " 2,\n",
       " 1029,\n",
       " 2,\n",
       " 104,\n",
       " 88,\n",
       " 2,\n",
       " 381,\n",
       " 2,\n",
       " 297,\n",
       " 98,\n",
       " 2,\n",
       " 2071,\n",
       " 56,\n",
       " 2,\n",
       " 141,\n",
       " 2,\n",
       " 194,\n",
       " 2,\n",
       " 2,\n",
       " 2,\n",
       " 226,\n",
       " 2,\n",
       " 2,\n",
       " 134,\n",
       " 476,\n",
       " 2,\n",
       " 480,\n",
       " 2,\n",
       " 144,\n",
       " 2,\n",
       " 2,\n",
       " 2,\n",
       " 51,\n",
       " 2,\n",
       " 2,\n",
       " 224,\n",
       " 92,\n",
       " 2,\n",
       " 104,\n",
       " 2,\n",
       " 226,\n",
       " 65,\n",
       " 2,\n",
       " 2,\n",
       " 1334,\n",
       " 88,\n",
       " 2,\n",
       " 2,\n",
       " 283,\n",
       " 2,\n",
       " 2,\n",
       " 4472,\n",
       " 113,\n",
       " 103,\n",
       " 2,\n",
       " 2,\n",
       " 2,\n",
       " 2,\n",
       " 2,\n",
       " 178,\n",
       " 2]"
      ]
     },
     "execution_count": 10,
     "metadata": {},
     "output_type": "execute_result"
    }
   ],
   "source": [
    "x_train[0]"
   ]
  },
  {
   "cell_type": "code",
   "execution_count": 11,
   "id": "2a8fe9c6",
   "metadata": {},
   "outputs": [
    {
     "data": {
      "text/plain": [
       "\"UNK UNK UNK UNK UNK brilliant casting location scenery story direction everyone's really suited UNK part UNK played UNK UNK could UNK imagine being there robert UNK UNK UNK amazing actor UNK now UNK same being director UNK father came UNK UNK same scottish island UNK myself UNK UNK loved UNK fact there UNK UNK real connection UNK UNK UNK UNK witty remarks throughout UNK UNK were great UNK UNK UNK brilliant UNK much UNK UNK bought UNK UNK UNK soon UNK UNK UNK released UNK UNK UNK would recommend UNK UNK everyone UNK watch UNK UNK fly UNK UNK amazing really cried UNK UNK end UNK UNK UNK sad UNK UNK know what UNK say UNK UNK cry UNK UNK UNK UNK must UNK been good UNK UNK definitely UNK also UNK UNK UNK two little UNK UNK played UNK UNK UNK norman UNK paul UNK were UNK brilliant children UNK often left UNK UNK UNK UNK list UNK think because UNK stars UNK play them UNK grown up UNK such UNK big UNK UNK UNK whole UNK UNK these children UNK amazing UNK should UNK UNK UNK what UNK UNK done don't UNK think UNK whole story UNK UNK lovely because UNK UNK true UNK UNK someone's life after UNK UNK UNK UNK UNK us UNK\""
      ]
     },
     "execution_count": 11,
     "metadata": {},
     "output_type": "execute_result"
    }
   ],
   "source": [
    "#reverse mapping\n",
    "'''\n",
    "Reverse mapping index to word (index_word). Created from the original word_index used to encode the sequences. \n",
    "This reverse lookup table is essential for decoding sequences back to human-readable text.\n",
    "'''\n",
    "\n",
    "' '.join(index_word[id] for id in x_train[0])"
   ]
  },
  {
   "cell_type": "code",
   "execution_count": 12,
   "id": "7f8adc40",
   "metadata": {},
   "outputs": [],
   "source": [
    "#printing full review\n",
    "(all_x_train,_),(all_x_valid,_) = imdb.load_data()"
   ]
  },
  {
   "cell_type": "code",
   "execution_count": 13,
   "id": "0adb032c",
   "metadata": {},
   "outputs": [
    {
     "data": {
      "text/plain": [
       "\"START this film was just brilliant casting location scenery story direction everyone's really suited the part they played and you could just imagine being there robert redford's is an amazing actor and now the same being director norman's father came from the same scottish island as myself so i loved the fact there was a real connection with this film the witty remarks throughout the film were great it was just brilliant so much that i bought the film as soon as it was released for retail and would recommend it to everyone to watch and the fly fishing was amazing really cried at the end it was so sad and you know what they say if you cry at a film it must have been good and this definitely was also congratulations to the two little boy's that played the part's of norman and paul they were just brilliant children are often left out of the praising list i think because the stars that play them all grown up are such a big profile for the whole film but these children are amazing and should be praised for what they have done don't you think the whole story was so lovely because it was true and was someone's life after all that was shared with us all\""
      ]
     },
     "execution_count": 13,
     "metadata": {},
     "output_type": "execute_result"
    }
   ],
   "source": [
    "' '.join(index_word[id] for id in all_x_train[0])"
   ]
  },
  {
   "cell_type": "code",
   "execution_count": 14,
   "id": "aa659f20",
   "metadata": {},
   "outputs": [
    {
     "data": {
      "text/plain": [
       "\"\\nBreakdown\\n--> maxlen=max_review_length - The maximum length to pad/truncate to. Reviews longer than this will be truncated. \\n                               Shorter ones padded.\\n    \\n--> padding=pad_type - Specifies which side to pad sequences - 'pre' pads at the beginning.\\n\\n--> truncating=trunc_type - Specifies which side to truncate from - 'pre' truncates from the start.\\n    \\n--> value=0 - Specifies the integer value to pad with, in this case 0.\\n      \\nSo for example if max_review_length=100, this will pad all training sequences to length 100 by adding 0's to the start. \\nSequences longer than 100 will be truncated from the start to be 100 tokens long.\\n\\nThis makes all sequences the same length for modeling. The max length and padding approach can impact what data the model sees. \\nValue of 0 allows padding to be easily distinguished from real words.\\n\\nFixed, padded lengths are required for training most deep learning models like CNNs and RNNs on sequence data. \\nThe padding parameters should be tuned for the dataset and model.\\n\""
      ]
     },
     "execution_count": 14,
     "metadata": {},
     "output_type": "execute_result"
    }
   ],
   "source": [
    "x_train = pad_sequences(x_train, maxlen=max_review_length, \n",
    "                        padding=pad_type, truncating=trunc_type, value=0)\n",
    "x_valid = pad_sequences(x_valid, maxlen=max_review_length, \n",
    "                        padding=pad_type, truncating=trunc_type, value=0)\n",
    "\n",
    "'''\n",
    "Breakdown\n",
    "--> maxlen=max_review_length - The maximum length to pad/truncate to. Reviews longer than this will be truncated. \n",
    "                               Shorter ones padded.\n",
    "    \n",
    "--> padding=pad_type - Specifies which side to pad sequences - 'pre' pads at the beginning.\n",
    "\n",
    "--> truncating=trunc_type - Specifies which side to truncate from - 'pre' truncates from the start.\n",
    "    \n",
    "--> value=0 - Specifies the integer value to pad with, in this case 0.\n",
    "      \n",
    "So for example if max_review_length=100, this will pad all training sequences to length 100 by adding 0's to the start. \n",
    "Sequences longer than 100 will be truncated from the start to be 100 tokens long.\n",
    "\n",
    "This makes all sequences the same length for modeling. The max length and padding approach can impact what data the model sees. \n",
    "Value of 0 allows padding to be easily distinguished from real words.\n",
    "\n",
    "Fixed, padded lengths are required for training most deep learning models like CNNs and RNNs on sequence data. \n",
    "The padding parameters should be tuned for the dataset and model.\n",
    "'''"
   ]
  },
  {
   "cell_type": "code",
   "execution_count": 15,
   "id": "c16ece41",
   "metadata": {},
   "outputs": [
    {
     "data": {
      "text/plain": [
       "array([[1415,    2,    2,    2,    2,  215,    2,   77,   52,    2,    2,\n",
       "         407,    2,   82,    2,    2,    2,  107,  117,    2,    2,  256,\n",
       "           2,    2,    2, 3766,    2,  723,    2,   71,    2,  530,  476,\n",
       "           2,  400,  317,    2,    2,    2,    2, 1029,    2,  104,   88,\n",
       "           2,  381,    2,  297,   98,    2, 2071,   56,    2,  141,    2,\n",
       "         194,    2,    2,    2,  226,    2,    2,  134,  476,    2,  480,\n",
       "           2,  144,    2,    2,    2,   51,    2,    2,  224,   92,    2,\n",
       "         104,    2,  226,   65,    2,    2, 1334,   88,    2,    2,  283,\n",
       "           2,    2, 4472,  113,  103,    2,    2,    2,    2,    2,  178,\n",
       "           2],\n",
       "       [ 163,    2, 3215,    2,    2, 1153,    2,  194,  775,    2,    2,\n",
       "           2,  349, 2637,  148,  605,    2,    2,    2,  123,  125,   68,\n",
       "           2,    2,    2,  349,  165, 4362,   98,    2,    2,  228,    2,\n",
       "           2,    2, 1157,    2,  299,  120,    2,  120,  174,    2,  220,\n",
       "         175,  136,   50,    2, 4373,  228,    2,    2,    2,  656,  245,\n",
       "        2350,    2,    2,    2,  131,  152,  491,    2,    2,    2,    2,\n",
       "        1212,    2,    2,    2,  371,   78,    2,  625,   64, 1382,    2,\n",
       "           2,  168,  145,    2,    2, 1690,    2,    2,    2, 1355,    2,\n",
       "           2,    2,   52,  154,  462,    2,   89,   78,  285,    2,  145,\n",
       "          95],\n",
       "       [1301,    2, 1873,    2,   89,   78,    2,   66,    2,    2,  360,\n",
       "           2,    2,   58,  316,  334,    2,    2, 1716,    2,  645,  662,\n",
       "           2,  257,   85, 1200,    2, 1228, 2578,   83,   68, 3912,    2,\n",
       "           2,  165, 1539,  278,    2,   69,    2,  780,    2,  106,    2,\n",
       "           2, 1338,    2,    2,    2,    2,  215,    2,  610,    2,    2,\n",
       "          87,  326,    2, 2300,    2,    2,    2,    2,  272,    2,   57,\n",
       "           2,    2,    2,    2,    2,    2, 2307,   51,    2,  170,    2,\n",
       "         595,  116,  595, 1352,    2,  191,   79,  638,   89,    2,    2,\n",
       "           2,    2,  106,  607,  624,    2,  534,    2,  227,    2,  129,\n",
       "         113],\n",
       "       [   2,    2,    2,  188, 1076, 3222,    2,    2,    2,    2, 2348,\n",
       "         537,    2,   53,  537,    2,   82,    2,    2,    2,    2,    2,\n",
       "         280,    2,  219,    2,    2,  431,  758,  859,    2,  953, 1052,\n",
       "           2,    2,    2,    2,   94,    2,    2,  238,   60,    2,    2,\n",
       "           2,  804,    2,    2,    2,    2,  132,    2,   67,    2,    2,\n",
       "           2,    2,  283,    2,    2,    2,    2,    2,  242,  955,    2,\n",
       "           2,  279,    2,    2,    2, 1685,  195,    2,  238,   60,  796,\n",
       "           2,    2,  671,    2, 2804,    2,    2,  559,  154,  888,    2,\n",
       "         726,   50,    2,    2,    2,    2,  566,    2,  579,    2,   64,\n",
       "        2574],\n",
       "       [   2,    2,  131, 2073,  249,  114,  249,  229,  249,    2,    2,\n",
       "           2,  126,  110,    2,  473,    2,  569,   61,  419,   56,  429,\n",
       "           2, 1513,    2,    2,  534,   95,  474,  570,    2,    2,  124,\n",
       "         138,   88,    2,  421, 1543,   52,  725,    2,   61,  419,    2,\n",
       "           2, 1571,    2, 1543,    2,    2,    2,    2,    2,  296,    2,\n",
       "        3524,    2,    2,  421,  128,   74,  233,  334,  207,  126,  224,\n",
       "           2,  562,  298, 2167, 1272,    2, 2601,    2,  516,  988,    2,\n",
       "           2,   79,  120,    2,  595,    2,  784,    2, 3171,    2,  165,\n",
       "         170,  143,    2,    2,    2,    2,    2,  226,  251,    2,   61,\n",
       "         113],\n",
       "       [   0,    0,    0,    0,    0,    0,    0,    0,    0,    0,    0,\n",
       "           0,    0,    0,    0,    0,    0,    0,    0,    0,    0,    0,\n",
       "           0,    0,    0,    0,    0,    0,    0,    0,    0,    0,    0,\n",
       "           0,    0,    0,    0,    0,    0,    0,    0,    0,    0,    0,\n",
       "           0,    0,    0,    0,    0,    0,    0,    0,    0,    0,    0,\n",
       "           0,    0,    2,  778,  128,   74,    2,  630,  163,    2,    2,\n",
       "        1766,    2, 1051,    2,    2,   85,  156,    2,    2,  148,  139,\n",
       "         121,  664,  665,    2,    2, 1361,  173,    2,  749,    2,    2,\n",
       "        3804,    2,    2,  226,   65,    2,    2,  127,    2,    2,    2,\n",
       "           2]])"
      ]
     },
     "execution_count": 15,
     "metadata": {},
     "output_type": "execute_result"
    }
   ],
   "source": [
    "#check lengths again after padding\n",
    "x_train[0:6]"
   ]
  },
  {
   "cell_type": "code",
   "execution_count": 16,
   "id": "7d58ead5",
   "metadata": {},
   "outputs": [
    {
     "name": "stdout",
     "output_type": "stream",
     "text": [
      "100\n",
      "100\n",
      "100\n",
      "100\n",
      "100\n",
      "100\n"
     ]
    }
   ],
   "source": [
    "for x in x_train[0:6]:\n",
    "    print(len(x))"
   ]
  },
  {
   "cell_type": "code",
   "execution_count": 17,
   "id": "b23f8519",
   "metadata": {},
   "outputs": [
    {
     "data": {
      "text/plain": [
       "'PAD PAD PAD PAD PAD PAD PAD PAD PAD PAD PAD PAD PAD PAD PAD PAD PAD PAD PAD PAD PAD PAD PAD PAD PAD PAD PAD PAD PAD PAD PAD PAD PAD PAD PAD PAD PAD PAD PAD PAD PAD PAD PAD PAD PAD PAD PAD PAD PAD PAD PAD PAD PAD PAD PAD PAD PAD UNK begins better than UNK ends funny UNK UNK russian UNK crew UNK UNK other actors UNK UNK those scenes where documentary shots UNK UNK spoiler part UNK message UNK UNK contrary UNK UNK whole story UNK UNK does UNK UNK UNK UNK'"
      ]
     },
     "execution_count": 17,
     "metadata": {},
     "output_type": "execute_result"
    }
   ],
   "source": [
    "' '.join(index_word[id] for id in x_train[5])"
   ]
  },
  {
   "cell_type": "markdown",
   "id": "20fd80a9-2519-4cdc-8b32-53063d05b769",
   "metadata": {},
   "source": [
    "## Observations from above ^\n",
    "1. Review lists now include 0's, indicating that padding has been applied.\n",
    "2. Lengths are now fixed and meet requirement for tensor format. "
   ]
  },
  {
   "cell_type": "code",
   "execution_count": 18,
   "id": "42b3400a",
   "metadata": {},
   "outputs": [
    {
     "name": "stdout",
     "output_type": "stream",
     "text": [
      "Model: \"sequential\"\n",
      "_________________________________________________________________\n",
      " Layer (type)                Output Shape              Param #   \n",
      "=================================================================\n",
      " embedding (Embedding)       (None, 100, 64)           320000    \n",
      "                                                                 \n",
      " flatten (Flatten)           (None, 6400)              0         \n",
      "                                                                 \n",
      " dense (Dense)               (None, 64)                409664    \n",
      "                                                                 \n",
      " dropout (Dropout)           (None, 64)                0         \n",
      "                                                                 \n",
      " dense_1 (Dense)             (None, 1)                 65        \n",
      "                                                                 \n",
      "=================================================================\n",
      "Total params: 729729 (2.78 MB)\n",
      "Trainable params: 729729 (2.78 MB)\n",
      "Non-trainable params: 0 (0.00 Byte)\n",
      "_________________________________________________________________\n"
     ]
    },
    {
     "data": {
      "text/plain": [
       "'\\nBreakdown\\n-->Sequential() - Creates a Keras Sequential model, which is a linear stack of layers.\\n\\n-->Embedding() - Creates an embedding layer that maps integer word indices to dense vectors of length n_dim. \\n                 It takes the vocabulary size and input length as arguments.\\n\\n-->Flatten() - Flattens the output of the Embedding layer to 1D so it can be input to a dense layer.\\n\\n-->Dense(n_dense) - A fully-connected dense layer with n_dense nodes. Applies a ReLU activation function.\\n\\n-->Dropout(dropout) - Applies dropout regularization with a dropout rate of dropout.\\n\\n-->Dense(1) - Final dense layer with 1 node for binary classification. Applies a sigmoid activation for probability output.\\n\\n-->model.summary() - Prints a summary of the model architecture, including the shape and number of parameters for each layer.\\n'"
      ]
     },
     "execution_count": 18,
     "metadata": {},
     "output_type": "execute_result"
    }
   ],
   "source": [
    "# This code defines a sequential Keras model for sentiment classification using an embedding layer and dense network.\n",
    "model = Sequential()\n",
    "model.add(Embedding(n_unique_words, n_dim, input_length=max_review_length))\n",
    "model.add(Flatten())\n",
    "model.add(Dense(n_dense, activation='relu'))\n",
    "model.add(Dropout(dropout))\n",
    "model.add(Dense(1, activation='sigmoid'))\n",
    "model.summary() \n",
    "\n",
    "'''\n",
    "Breakdown\n",
    "-->Sequential() - Creates a Keras Sequential model, which is a linear stack of layers.\n",
    "\n",
    "-->Embedding() - Creates an embedding layer that maps integer word indices to dense vectors of length n_dim. \n",
    "                 It takes the vocabulary size and input length as arguments.\n",
    "\n",
    "-->Flatten() - Flattens the output of the Embedding layer to 1D so it can be input to a dense layer.\n",
    "\n",
    "-->Dense(n_dense) - A fully-connected dense layer with n_dense nodes. Applies a ReLU activation function.\n",
    "\n",
    "-->Dropout(dropout) - Applies dropout regularization with a dropout rate of dropout.\n",
    "\n",
    "-->Dense(1) - Final dense layer with 1 node for binary classification. Applies a sigmoid activation for probability output.\n",
    "\n",
    "-->model.summary() - Prints a summary of the model architecture, including the shape and number of parameters for each layer.\n",
    "'''"
   ]
  },
  {
   "cell_type": "code",
   "execution_count": 19,
   "id": "3052e025",
   "metadata": {},
   "outputs": [
    {
     "data": {
      "text/plain": [
       "(64, 5000, 320000)"
      ]
     },
     "execution_count": 19,
     "metadata": {},
     "output_type": "execute_result"
    }
   ],
   "source": [
    "n_dim, n_unique_words, n_dim*n_unique_words # embedding layer"
   ]
  },
  {
   "cell_type": "code",
   "execution_count": 20,
   "id": "af7733fc",
   "metadata": {},
   "outputs": [
    {
     "data": {
      "text/plain": [
       "(100, 64, 6400)"
      ]
     },
     "execution_count": 20,
     "metadata": {},
     "output_type": "execute_result"
    }
   ],
   "source": [
    "max_review_length, n_dim, n_dim*max_review_length # flatten"
   ]
  },
  {
   "cell_type": "code",
   "execution_count": 21,
   "id": "e0f10a44",
   "metadata": {},
   "outputs": [
    {
     "data": {
      "text/plain": [
       "(64, 409664)"
      ]
     },
     "execution_count": 21,
     "metadata": {},
     "output_type": "execute_result"
    }
   ],
   "source": [
    "n_dense, n_dim*max_review_length*n_dense + n_dense # dense: weights + biases"
   ]
  },
  {
   "cell_type": "code",
   "execution_count": 22,
   "id": "fe767f3a",
   "metadata": {},
   "outputs": [
    {
     "data": {
      "text/plain": [
       "65"
      ]
     },
     "execution_count": 22,
     "metadata": {},
     "output_type": "execute_result"
    }
   ],
   "source": [
    "n_dense + 1 # output"
   ]
  },
  {
   "cell_type": "code",
   "execution_count": 23,
   "id": "b7ddd983",
   "metadata": {},
   "outputs": [
    {
     "data": {
      "text/plain": [
       "\"\\nBreakdown\\n\\n-->model.compile() - Configures the model for training by specifying the loss, optimizer, and metrics to monitor.\\n\\n                    * loss='binary_crossentropy' - Specifies binary crossentropy as the loss function, commonly used for binary classification.\\n                    * optimizer='adam' - Sets the adam optimizer for training, which is an efficient gradient descent algorithm.\\n                    * metrics=['accuracy'] - Specifies accuracy as an additional metric to monitor during training besides the loss.\\n                    \\n-->ModelCheckpoint() - Creates a callback to save the model checkpoint during training after each epoch.\\n\\n                    * filepath - Specifies the file path template to save the checkpoint files. {epoch} is formatted to 2 digits.\\n-->if not os.path.exists(output_dir) - Checks if the output directory exists, and creates it if not.\\n\\nSo in summary, this configures the model for training by setting the loss, optimizer, and metrics. It sets up model checkpointing to repeatedly \\nsave the model weights during training. The output directory is created if needed.\\n\\nCompiling and checkpointing are essential steps to configure the training process. The settings like batch size, loss, and optimizer \\nimpact model performance and training dynamics.\\n\""
      ]
     },
     "execution_count": 23,
     "metadata": {},
     "output_type": "execute_result"
    }
   ],
   "source": [
    "#This code configures the model compilation and checkpointing before training:\n",
    "model.compile(loss='binary_crossentropy', optimizer='adam', metrics=['accuracy'])\n",
    "modelcheckpoint = ModelCheckpoint(filepath=output_dir+\"/weights.{epoch:02d}.hdf5\")\n",
    "if not os.path.exists(output_dir):\n",
    "    os.makedirs(output_dir)\n",
    "    \n",
    "'''\n",
    "Breakdown\n",
    "\n",
    "-->model.compile() - Configures the model for training by specifying the loss, optimizer, and metrics to monitor.\n",
    "\n",
    "                    * loss='binary_crossentropy' - Specifies binary crossentropy as the loss function, commonly used for binary classification.\n",
    "                    * optimizer='adam' - Sets the adam optimizer for training, which is an efficient gradient descent algorithm.\n",
    "                    * metrics=['accuracy'] - Specifies accuracy as an additional metric to monitor during training besides the loss.\n",
    "                    \n",
    "-->ModelCheckpoint() - Creates a callback to save the model checkpoint during training after each epoch.\n",
    "\n",
    "                    * filepath - Specifies the file path template to save the checkpoint files. {epoch} is formatted to 2 digits.\n",
    "-->if not os.path.exists(output_dir) - Checks if the output directory exists, and creates it if not.\n",
    "\n",
    "So in summary, this configures the model for training by setting the loss, optimizer, and metrics. It sets up model checkpointing to repeatedly \n",
    "save the model weights during training. The output directory is created if needed.\n",
    "\n",
    "Compiling and checkpointing are essential steps to configure the training process. The settings like batch size, loss, and optimizer \n",
    "impact model performance and training dynamics.\n",
    "'''"
   ]
  },
  {
   "cell_type": "code",
   "execution_count": 24,
   "id": "db587e85",
   "metadata": {},
   "outputs": [
    {
     "name": "stdout",
     "output_type": "stream",
     "text": [
      "Epoch 1/4\n",
      "196/196 [==============================] - 5s 22ms/step - loss: 0.5368 - accuracy: 0.7081 - val_loss: 0.3459 - val_accuracy: 0.8483\n",
      "Epoch 2/4\n",
      "  7/196 [>.............................] - ETA: 3s - loss: 0.2594 - accuracy: 0.9051"
     ]
    },
    {
     "name": "stderr",
     "output_type": "stream",
     "text": [
      "C:\\Users\\sethw\\anaconda3\\Lib\\site-packages\\keras\\src\\engine\\training.py:3000: UserWarning: You are saving your model as an HDF5 file via `model.save()`. This file format is considered legacy. We recommend using instead the native Keras format, e.g. `model.save('my_model.keras')`.\n",
      "  saving_api.save_model(\n"
     ]
    },
    {
     "name": "stdout",
     "output_type": "stream",
     "text": [
      "196/196 [==============================] - 4s 20ms/step - loss: 0.2577 - accuracy: 0.8998 - val_loss: 0.3542 - val_accuracy: 0.8452\n",
      "Epoch 3/4\n",
      "196/196 [==============================] - 4s 20ms/step - loss: 0.0869 - accuracy: 0.9761 - val_loss: 0.4540 - val_accuracy: 0.8317\n",
      "Epoch 4/4\n",
      "196/196 [==============================] - 4s 20ms/step - loss: 0.0174 - accuracy: 0.9978 - val_loss: 0.5452 - val_accuracy: 0.8333\n"
     ]
    },
    {
     "data": {
      "text/plain": [
       "<keras.src.callbacks.History at 0x1bb055b3cd0>"
      ]
     },
     "execution_count": 24,
     "metadata": {},
     "output_type": "execute_result"
    }
   ],
   "source": [
    "# train\n",
    "model.fit(x_train, y_train, \n",
    "          batch_size=batch_size, epochs=epochs, verbose=1, \n",
    "          validation_data=(x_valid, y_valid), \n",
    "          callbacks=[modelcheckpoint])"
   ]
  },
  {
   "cell_type": "markdown",
   "id": "8c0fad20-aced-4b50-a57e-c4a8c8857dfd",
   "metadata": {},
   "source": [
    "## Inferences from output above^\n",
    "1. We can see the training loss and accuracy improve with each epoch as the model trains. \n",
    "2. Validation loss shows some overfitting, increasing when training loss decreases."
   ]
  },
  {
   "cell_type": "code",
   "execution_count": 25,
   "id": "a5de416e",
   "metadata": {},
   "outputs": [
    {
     "name": "stdout",
     "output_type": "stream",
     "text": [
      "782/782 [==============================] - 2s 2ms/step\n"
     ]
    }
   ],
   "source": [
    "#This code is loading trained weights into the model and then making predictions on the validation data.\n",
    "model.load_weights(output_dir+\"/weights.02.hdf5\") # NOT zero-indexed\n",
    "y_hat = model.predict(x_valid)\n",
    "\n",
    "'''\n",
    "Breakdown\n",
    "-->model.load_weights() - Loads weights values into the model layers.\n",
    "\n",
    "-->output_dir+\"/weights.02.hdf5\" - The path to the weights file. Here it loads weights.02.hdf5 from the output_dir.\n",
    "\n",
    "-->y_hat = model.predict(x_valid) - Makes predictions on the validation data (x_valid) using the loaded model.\n",
    "\n",
    "-->model.predict() returns the raw predictions rather than class probabilities.\n",
    "\n",
    "-->y_hat will contain the predictions on the validation set, to compare to the true y_valid labels.\n",
    "\n",
    "So in summary, this restores the model weights from checkpoint 2, then uses the trained model to make predictions on the validation data.\n",
    "'''"
   ]
  },
  {
   "cell_type": "code",
   "execution_count": 26,
   "id": "276dd372",
   "metadata": {},
   "outputs": [
    {
     "data": {
      "text/plain": [
       "0"
      ]
     },
     "execution_count": 26,
     "metadata": {},
     "output_type": "execute_result"
    }
   ],
   "source": [
    "#first review, 0 indicates negative review\n",
    "y_valid[0]"
   ]
  },
  {
   "cell_type": "code",
   "execution_count": 27,
   "id": "aa2997b5",
   "metadata": {},
   "outputs": [
    {
     "data": {
      "image/png": "[encoded data removed]",
      "text/plain": [
       "<Figure size 640x480 with 1 Axes>"
      ]
     },
     "metadata": {},
     "output_type": "display_data"
    }
   ],
   "source": [
    "#plotting the weights\n",
    "plt.hist(y_hat)\n",
    "_ = plt.axvline(x=0.5, color='orange')"
   ]
  },
  {
   "cell_type": "code",
   "execution_count": 28,
   "id": "9f4e43e0",
   "metadata": {},
   "outputs": [
    {
     "data": {
      "text/plain": [
       "'92.60'"
      ]
     },
     "execution_count": 28,
     "metadata": {},
     "output_type": "execute_result"
    }
   ],
   "source": [
    "#accuracy\n",
    "pct_auc = roc_auc_score(y_valid, y_hat)*100.0\n",
    "\"{:0.2f}\".format(pct_auc)"
   ]
  },
  {
   "cell_type": "code",
   "execution_count": 29,
   "id": "381be92e",
   "metadata": {},
   "outputs": [],
   "source": [
    "float_y_hat = []\n",
    "for y in y_hat:\n",
    "    float_y_hat.append(y[0])\n",
    "    "
   ]
  },
  {
   "cell_type": "code",
   "execution_count": 30,
   "id": "db40bf32",
   "metadata": {},
   "outputs": [
    {
     "data": {
      "text/plain": [
       "\"START please give this one a miss br br kristy swanson and the rest of the cast rendered terrible performances the show is flat flat flat br br i don't know how michael madison could have allowed this one on his plate he almost seemed to know this wasn't going to work out and his performance was quite lacklustre so all you madison fans give this a miss\""
      ]
     },
     "execution_count": 30,
     "metadata": {},
     "output_type": "execute_result"
    }
   ],
   "source": [
    "#printing out the negative review \n",
    "' '.join(index_word[id] for id in all_x_valid[0])"
   ]
  },
  {
   "cell_type": "markdown",
   "id": "adfa2217-8cbd-49f7-b10e-0a34e7555c08",
   "metadata": {},
   "source": [
    "## NLP Sentiment Analysis with RNN and RNN variants LTSM and GRU"
   ]
  },
  {
   "cell_type": "code",
   "execution_count": 51,
   "id": "afb68222-7e87-4589-9ff4-f8cb35df5c5f",
   "metadata": {
    "tags": []
   },
   "outputs": [],
   "source": [
    "#import additional libraries\n",
    "from keras.layers import SpatialDropout1D, LSTM, GRU, SimpleRNN\n",
    "from keras.layers import Bidirectional"
   ]
  },
  {
   "cell_type": "code",
   "execution_count": 35,
   "id": "32cf3e16-9eb1-46da-a5d3-ddb34957e75d",
   "metadata": {
    "tags": []
   },
   "outputs": [],
   "source": [
    "# output directory\n",
    "output_dir = 'model_output/rnn'\n",
    "\n",
    "# training\n",
    "epochs = 4\n",
    "batch_size = 128\n",
    "\n",
    "# embedding: \n",
    "n_dim = 64 \n",
    "n_unique_words = 10000 \n",
    "n_words_to_skip = 50\n",
    "max_review_length = 100 \n",
    "pad_type = trunc_type = 'pre'\n",
    "drop_embed = 0.2 \n"
   ]
  },
  {
   "cell_type": "code",
   "execution_count": 36,
   "id": "27c9cf72-b8d0-4a40-9054-83cd202d568b",
   "metadata": {
    "tags": []
   },
   "outputs": [],
   "source": [
    "# RNN \n",
    "n_rnn = 256 \n",
    "drop_rnn = 0.2\n",
    "\n",
    "# LSTM/Bi\n",
    "n_lstm = 256 \n",
    "drop_lstm = 0.2\n",
    "\n",
    "# Stacked\n",
    "n_lstm_1 = 64  \n",
    "n_lstm_2 = 64  \n",
    "drop2_lstm = 0.2\n",
    "\n",
    "# GRU \n",
    "n_gru = 256 \n",
    "drop_gru = 0.2"
   ]
  },
  {
   "cell_type": "markdown",
   "id": "e1c257d0-3326-445c-843c-a897f6d6f11a",
   "metadata": {},
   "source": [
    "## RNN"
   ]
  },
  {
   "cell_type": "code",
   "execution_count": 68,
   "id": "06bbc1ad-505b-43e5-9f79-f3c4f499835e",
   "metadata": {
    "tags": []
   },
   "outputs": [
    {
     "name": "stdout",
     "output_type": "stream",
     "text": [
      "Model: \"sequential_8\"\n",
      "_________________________________________________________________\n",
      " Layer (type)                Output Shape              Param #   \n",
      "=================================================================\n",
      " embedding_8 (Embedding)     (None, 100, 64)           640000    \n",
      "                                                                 \n",
      " spatial_dropout1d_6 (Spati  (None, 100, 64)           0         \n",
      " alDropout1D)                                                    \n",
      "                                                                 \n",
      " simple_rnn_1 (SimpleRNN)    (None, 256)               82176     \n",
      "                                                                 \n",
      " dense_7 (Dense)             (None, 1)                 257       \n",
      "                                                                 \n",
      "=================================================================\n",
      "Total params: 722433 (2.76 MB)\n",
      "Trainable params: 722433 (2.76 MB)\n",
      "Non-trainable params: 0 (0.00 Byte)\n",
      "_________________________________________________________________\n"
     ]
    }
   ],
   "source": [
    "# RNN\n",
    "\n",
    "model = Sequential()\n",
    "model.add(Embedding(n_unique_words, n_dim, input_length=max_review_length)) \n",
    "model.add(SpatialDropout1D(drop_embed))\n",
    "model.add(SimpleRNN(n_rnn, dropout=drop_rnn))\n",
    "model.add(Dense(1, activation='sigmoid'))\n",
    "\n",
    "model.summary()"
   ]
  },
  {
   "cell_type": "code",
   "execution_count": 69,
   "id": "7e97694e-a65f-416b-8844-320f4edd6391",
   "metadata": {
    "tags": []
   },
   "outputs": [],
   "source": [
    "model.compile(loss='binary_crossentropy', optimizer='adam', metrics=['accuracy'])\n",
    "\n",
    "modelcheckpoint = ModelCheckpoint(filepath=output_dir+\"/weights.{epoch:02d}.hdf5\")\n",
    "if not os.path.exists(output_dir):\n",
    "    os.makedirs(output_dir)"
   ]
  },
  {
   "cell_type": "code",
   "execution_count": 70,
   "id": "d3e8752f-191b-47ed-aa9f-03eb3b3a9794",
   "metadata": {
    "tags": []
   },
   "outputs": [
    {
     "name": "stdout",
     "output_type": "stream",
     "text": [
      "Epoch 1/4\n",
      "196/196 [==============================] - 32s 157ms/step - loss: 0.7042 - accuracy: 0.5148 - val_loss: 0.7355 - val_accuracy: 0.4999\n",
      "Epoch 2/4\n",
      "  1/196 [..............................] - ETA: 26s - loss: 0.7904 - accuracy: 0.4141"
     ]
    },
    {
     "name": "stderr",
     "output_type": "stream",
     "text": [
      "C:\\Users\\sethw\\anaconda3\\Lib\\site-packages\\keras\\src\\engine\\training.py:3000: UserWarning: You are saving your model as an HDF5 file via `model.save()`. This file format is considered legacy. We recommend using instead the native Keras format, e.g. `model.save('my_model.keras')`.\n",
      "  saving_api.save_model(\n"
     ]
    },
    {
     "name": "stdout",
     "output_type": "stream",
     "text": [
      "196/196 [==============================] - 30s 155ms/step - loss: 0.6765 - accuracy: 0.5687 - val_loss: 0.6852 - val_accuracy: 0.5388\n",
      "Epoch 3/4\n",
      "196/196 [==============================] - 31s 156ms/step - loss: 0.6389 - accuracy: 0.6142 - val_loss: 0.6373 - val_accuracy: 0.6135\n",
      "Epoch 4/4\n",
      "196/196 [==============================] - 31s 160ms/step - loss: 0.5773 - accuracy: 0.6897 - val_loss: 0.6899 - val_accuracy: 0.5962\n"
     ]
    },
    {
     "data": {
      "text/plain": [
       "<keras.src.callbacks.History at 0x1bb0e00d8d0>"
      ]
     },
     "execution_count": 70,
     "metadata": {},
     "output_type": "execute_result"
    }
   ],
   "source": [
    "model.fit(x_train, y_train, batch_size=batch_size, epochs=epochs, verbose=1, validation_data=(x_valid, y_valid), callbacks=[modelcheckpoint])"
   ]
  },
  {
   "cell_type": "code",
   "execution_count": 71,
   "id": "2e230797-d720-4400-a6e4-be61e90b3a3c",
   "metadata": {
    "tags": []
   },
   "outputs": [
    {
     "name": "stdout",
     "output_type": "stream",
     "text": [
      "782/782 [==============================] - 13s 17ms/step\n"
     ]
    },
    {
     "data": {
      "image/png": "[encoded data removed]",
      "text/plain": [
       "<Figure size 640x480 with 1 Axes>"
      ]
     },
     "metadata": {},
     "output_type": "display_data"
    }
   ],
   "source": [
    "model.load_weights(output_dir+\"/weights.02.hdf5\")\n",
    "y_hat = model.predict(x_valid)\n",
    "\n",
    "plt.hist(y_hat)\n",
    "_ = plt.axvline(x=0.5, color='orange')"
   ]
  },
  {
   "cell_type": "code",
   "execution_count": 72,
   "id": "e66fa162-65e9-44d2-9541-5db3644d6067",
   "metadata": {
    "tags": []
   },
   "outputs": [
    {
     "data": {
      "text/plain": [
       "'62.07'"
      ]
     },
     "execution_count": 72,
     "metadata": {},
     "output_type": "execute_result"
    }
   ],
   "source": [
    "\"{:0.2f}\".format(roc_auc_score(y_valid, y_hat)*100.0)"
   ]
  },
  {
   "cell_type": "markdown",
   "id": "35696920-65e7-48b7-8eb8-da0124a3dd47",
   "metadata": {},
   "source": [
    "## LSTM"
   ]
  },
  {
   "cell_type": "code",
   "execution_count": 44,
   "id": "ae1d2704-12d9-468a-acd9-e271b6d40600",
   "metadata": {
    "tags": []
   },
   "outputs": [
    {
     "name": "stdout",
     "output_type": "stream",
     "text": [
      "Model: \"sequential_3\"\n",
      "_________________________________________________________________\n",
      " Layer (type)                Output Shape              Param #   \n",
      "=================================================================\n",
      " embedding_3 (Embedding)     (None, 100, 64)           640000    \n",
      "                                                                 \n",
      " spatial_dropout1d_1 (Spati  (None, 100, 64)           0         \n",
      " alDropout1D)                                                    \n",
      "                                                                 \n",
      " lstm (LSTM)                 (None, 256)               328704    \n",
      "                                                                 \n",
      " dense_3 (Dense)             (None, 1)                 257       \n",
      "                                                                 \n",
      "=================================================================\n",
      "Total params: 968961 (3.70 MB)\n",
      "Trainable params: 968961 (3.70 MB)\n",
      "Non-trainable params: 0 (0.00 Byte)\n",
      "_________________________________________________________________\n"
     ]
    }
   ],
   "source": [
    "# LSTM\n",
    "\n",
    "model = Sequential()\n",
    "model.add(Embedding(n_unique_words, n_dim, input_length=max_review_length)) \n",
    "model.add(SpatialDropout1D(drop_embed))\n",
    "model.add(LSTM(n_lstm, dropout=drop_lstm))\n",
    "model.add(Dense(1, activation='sigmoid'))\n",
    "\n",
    "model.summary()"
   ]
  },
  {
   "cell_type": "code",
   "execution_count": 45,
   "id": "f7f703c2-1f8e-481b-92ed-2f30e0dc562b",
   "metadata": {
    "tags": []
   },
   "outputs": [],
   "source": [
    "model.compile(loss='binary_crossentropy', optimizer='adam', metrics=['accuracy'])\n",
    "\n",
    "modelcheckpoint = ModelCheckpoint(filepath=output_dir+\"/weights.{epoch:02d}.hdf5\")\n",
    "if not os.path.exists(output_dir):\n",
    "    os.makedirs(output_dir)"
   ]
  },
  {
   "cell_type": "code",
   "execution_count": 46,
   "id": "e934978f-dac7-4853-afc7-e1343b318070",
   "metadata": {
    "tags": []
   },
   "outputs": [
    {
     "name": "stdout",
     "output_type": "stream",
     "text": [
      "Epoch 1/4\n",
      "196/196 [==============================] - 133s 664ms/step - loss: 0.5308 - accuracy: 0.7215 - val_loss: 0.3596 - val_accuracy: 0.8442\n",
      "Epoch 2/4\n"
     ]
    },
    {
     "name": "stderr",
     "output_type": "stream",
     "text": [
      "C:\\Users\\sethw\\anaconda3\\Lib\\site-packages\\keras\\src\\engine\\training.py:3000: UserWarning: You are saving your model as an HDF5 file via `model.save()`. This file format is considered legacy. We recommend using instead the native Keras format, e.g. `model.save('my_model.keras')`.\n",
      "  saving_api.save_model(\n"
     ]
    },
    {
     "name": "stdout",
     "output_type": "stream",
     "text": [
      "196/196 [==============================] - 128s 652ms/step - loss: 0.3246 - accuracy: 0.8631 - val_loss: 0.3653 - val_accuracy: 0.8416\n",
      "Epoch 3/4\n",
      "196/196 [==============================] - 126s 644ms/step - loss: 0.2913 - accuracy: 0.8813 - val_loss: 0.4301 - val_accuracy: 0.8376\n",
      "Epoch 4/4\n",
      "196/196 [==============================] - 122s 624ms/step - loss: 0.2663 - accuracy: 0.8923 - val_loss: 0.3610 - val_accuracy: 0.8417\n"
     ]
    },
    {
     "data": {
      "text/plain": [
       "<keras.src.callbacks.History at 0x1bb0feddcd0>"
      ]
     },
     "execution_count": 46,
     "metadata": {},
     "output_type": "execute_result"
    }
   ],
   "source": [
    "model.fit(x_train, y_train, batch_size=batch_size, epochs=epochs, verbose=1, validation_data=(x_valid, y_valid), callbacks=[modelcheckpoint])"
   ]
  },
  {
   "cell_type": "code",
   "execution_count": 47,
   "id": "729c069a-57cf-48de-b625-28773d7c1928",
   "metadata": {
    "tags": []
   },
   "outputs": [
    {
     "name": "stdout",
     "output_type": "stream",
     "text": [
      "782/782 [==============================] - 66s 84ms/step\n"
     ]
    },
    {
     "data": {
      "image/png": "[encoded data removed]",
      "text/plain": [
       "<Figure size 640x480 with 1 Axes>"
      ]
     },
     "metadata": {},
     "output_type": "display_data"
    }
   ],
   "source": [
    "model.load_weights(output_dir+\"/weights.02.hdf5\")\n",
    "y_hat = model.predict(x_valid)\n",
    "\n",
    "plt.hist(y_hat)\n",
    "_ = plt.axvline(x=0.5, color='orange')"
   ]
  },
  {
   "cell_type": "code",
   "execution_count": 48,
   "id": "856a3ce2-3950-44cc-b40d-40fd3697eccc",
   "metadata": {
    "tags": []
   },
   "outputs": [
    {
     "data": {
      "text/plain": [
       "'92.22'"
      ]
     },
     "execution_count": 48,
     "metadata": {},
     "output_type": "execute_result"
    }
   ],
   "source": [
    "\"{:0.2f}\".format(roc_auc_score(y_valid, y_hat)*100.0)"
   ]
  },
  {
   "cell_type": "markdown",
   "id": "877adde5-37b9-455d-82a7-713b4fa8ee2e",
   "metadata": {},
   "source": [
    "## Bidirectional LSTM"
   ]
  },
  {
   "cell_type": "code",
   "execution_count": 52,
   "id": "4ae646b1-cbdd-474f-8ebf-4d6e56dd1fd2",
   "metadata": {
    "tags": []
   },
   "outputs": [
    {
     "name": "stdout",
     "output_type": "stream",
     "text": [
      "Model: \"sequential_5\"\n",
      "_________________________________________________________________\n",
      " Layer (type)                Output Shape              Param #   \n",
      "=================================================================\n",
      " embedding_5 (Embedding)     (None, 100, 64)           640000    \n",
      "                                                                 \n",
      " spatial_dropout1d_3 (Spati  (None, 100, 64)           0         \n",
      " alDropout1D)                                                    \n",
      "                                                                 \n",
      " bidirectional (Bidirection  (None, 512)               657408    \n",
      " al)                                                             \n",
      "                                                                 \n",
      " dense_4 (Dense)             (None, 1)                 513       \n",
      "                                                                 \n",
      "=================================================================\n",
      "Total params: 1297921 (4.95 MB)\n",
      "Trainable params: 1297921 (4.95 MB)\n",
      "Non-trainable params: 0 (0.00 Byte)\n",
      "_________________________________________________________________\n"
     ]
    }
   ],
   "source": [
    "# Bidirectional LSTM\n",
    "\n",
    "model = Sequential()\n",
    "model.add(Embedding(n_unique_words, n_dim, input_length=max_review_length)) \n",
    "model.add(SpatialDropout1D(drop_embed))\n",
    "model.add(Bidirectional(LSTM(n_lstm, dropout=drop_lstm)))\n",
    "model.add(Dense(1, activation='sigmoid'))\n",
    "\n",
    "model.summary()"
   ]
  },
  {
   "cell_type": "code",
   "execution_count": 53,
   "id": "e2d0cabf-02a8-4437-8d08-c10191fde129",
   "metadata": {
    "tags": []
   },
   "outputs": [],
   "source": [
    "model.compile(loss='binary_crossentropy', optimizer='adam', metrics=['accuracy'])\n",
    "\n",
    "modelcheckpoint = ModelCheckpoint(filepath=output_dir+\"/weights.{epoch:02d}.hdf5\")\n",
    "if not os.path.exists(output_dir):\n",
    "    os.makedirs(output_dir)"
   ]
  },
  {
   "cell_type": "code",
   "execution_count": 54,
   "id": "dfade314-4506-4289-bc6c-8dff0aa3959b",
   "metadata": {
    "tags": []
   },
   "outputs": [
    {
     "name": "stdout",
     "output_type": "stream",
     "text": [
      "Epoch 1/4\n",
      "196/196 [==============================] - 221s 1s/step - loss: 0.5532 - accuracy: 0.6922 - val_loss: 0.3772 - val_accuracy: 0.8369\n",
      "Epoch 2/4\n"
     ]
    },
    {
     "name": "stderr",
     "output_type": "stream",
     "text": [
      "C:\\Users\\sethw\\anaconda3\\Lib\\site-packages\\keras\\src\\engine\\training.py:3000: UserWarning: You are saving your model as an HDF5 file via `model.save()`. This file format is considered legacy. We recommend using instead the native Keras format, e.g. `model.save('my_model.keras')`.\n",
      "  saving_api.save_model(\n"
     ]
    },
    {
     "name": "stdout",
     "output_type": "stream",
     "text": [
      "196/196 [==============================] - 222s 1s/step - loss: 0.3296 - accuracy: 0.8632 - val_loss: 0.3646 - val_accuracy: 0.8412\n",
      "Epoch 3/4\n",
      "196/196 [==============================] - 222s 1s/step - loss: 0.2892 - accuracy: 0.8821 - val_loss: 0.3574 - val_accuracy: 0.8433\n",
      "Epoch 4/4\n",
      "196/196 [==============================] - 224s 1s/step - loss: 0.2616 - accuracy: 0.8953 - val_loss: 0.3750 - val_accuracy: 0.8428\n"
     ]
    },
    {
     "data": {
      "text/plain": [
       "<keras.src.callbacks.History at 0x1bb0d7f5850>"
      ]
     },
     "execution_count": 54,
     "metadata": {},
     "output_type": "execute_result"
    }
   ],
   "source": [
    "model.fit(x_train, y_train, batch_size=batch_size, epochs=epochs, verbose=1, validation_data=(x_valid, y_valid), callbacks=[modelcheckpoint])"
   ]
  },
  {
   "cell_type": "code",
   "execution_count": 55,
   "id": "eb364134-27b6-4df7-a353-95586513eaa8",
   "metadata": {
    "tags": []
   },
   "outputs": [
    {
     "name": "stdout",
     "output_type": "stream",
     "text": [
      "782/782 [==============================] - 108s 134ms/step\n"
     ]
    },
    {
     "data": {
      "image/png": "[encoded data removed]",
      "text/plain": [
       "<Figure size 640x480 with 1 Axes>"
      ]
     },
     "metadata": {},
     "output_type": "display_data"
    }
   ],
   "source": [
    "model.load_weights(output_dir+\"/weights.02.hdf5\")\n",
    "y_hat = model.predict(x_valid)\n",
    "\n",
    "plt.hist(y_hat)\n",
    "_ = plt.axvline(x=0.5, color='orange')"
   ]
  },
  {
   "cell_type": "code",
   "execution_count": 56,
   "id": "fa30f953-3aa4-49ac-ad5e-bc77d0b78193",
   "metadata": {
    "tags": []
   },
   "outputs": [
    {
     "data": {
      "text/plain": [
       "'92.65'"
      ]
     },
     "execution_count": 56,
     "metadata": {},
     "output_type": "execute_result"
    }
   ],
   "source": [
    "\"{:0.2f}\".format(roc_auc_score(y_valid, y_hat)*100.0)"
   ]
  },
  {
   "cell_type": "markdown",
   "id": "3413e374-316f-4218-a977-6743fca8cf69",
   "metadata": {},
   "source": [
    "## GRU"
   ]
  },
  {
   "cell_type": "code",
   "execution_count": 57,
   "id": "2843a470-a2f3-4e5b-99ad-4f6c70f09842",
   "metadata": {
    "tags": []
   },
   "outputs": [
    {
     "name": "stdout",
     "output_type": "stream",
     "text": [
      "Model: \"sequential_6\"\n",
      "_________________________________________________________________\n",
      " Layer (type)                Output Shape              Param #   \n",
      "=================================================================\n",
      " embedding_6 (Embedding)     (None, 100, 64)           640000    \n",
      "                                                                 \n",
      " spatial_dropout1d_4 (Spati  (None, 100, 64)           0         \n",
      " alDropout1D)                                                    \n",
      "                                                                 \n",
      " gru (GRU)                   (None, 256)               247296    \n",
      "                                                                 \n",
      " dense_5 (Dense)             (None, 1)                 257       \n",
      "                                                                 \n",
      "=================================================================\n",
      "Total params: 887553 (3.39 MB)\n",
      "Trainable params: 887553 (3.39 MB)\n",
      "Non-trainable params: 0 (0.00 Byte)\n",
      "_________________________________________________________________\n"
     ]
    }
   ],
   "source": [
    "# GRU\n",
    "\n",
    "model = Sequential()\n",
    "model.add(Embedding(n_unique_words, n_dim, input_length=max_review_length)) \n",
    "model.add(SpatialDropout1D(drop_embed))\n",
    "model.add(GRU(n_gru, dropout=drop_gru))\n",
    "model.add(Dense(1, activation='sigmoid'))\n",
    "\n",
    "model.summary()"
   ]
  },
  {
   "cell_type": "code",
   "execution_count": 58,
   "id": "0948a9bc-aab4-4a5d-b806-116fc750e8fb",
   "metadata": {
    "tags": []
   },
   "outputs": [],
   "source": [
    "model.compile(loss='binary_crossentropy', optimizer='adam', metrics=['accuracy'])\n",
    "\n",
    "modelcheckpoint = ModelCheckpoint(filepath=output_dir+\"/weights.{epoch:02d}.hdf5\")\n",
    "if not os.path.exists(output_dir):\n",
    "    os.makedirs(output_dir)"
   ]
  },
  {
   "cell_type": "code",
   "execution_count": 59,
   "id": "cadaf716-3e8c-409e-9dc5-7cbeb0f050e1",
   "metadata": {
    "tags": []
   },
   "outputs": [
    {
     "name": "stdout",
     "output_type": "stream",
     "text": [
      "Epoch 1/4\n",
      "196/196 [==============================] - 83s 413ms/step - loss: 0.5999 - accuracy: 0.6518 - val_loss: 0.4043 - val_accuracy: 0.8199\n",
      "Epoch 2/4\n"
     ]
    },
    {
     "name": "stderr",
     "output_type": "stream",
     "text": [
      "C:\\Users\\sethw\\anaconda3\\Lib\\site-packages\\keras\\src\\engine\\training.py:3000: UserWarning: You are saving your model as an HDF5 file via `model.save()`. This file format is considered legacy. We recommend using instead the native Keras format, e.g. `model.save('my_model.keras')`.\n",
      "  saving_api.save_model(\n"
     ]
    },
    {
     "name": "stdout",
     "output_type": "stream",
     "text": [
      "196/196 [==============================] - 80s 409ms/step - loss: 0.3562 - accuracy: 0.8473 - val_loss: 0.3523 - val_accuracy: 0.8470\n",
      "Epoch 3/4\n",
      "196/196 [==============================] - 82s 418ms/step - loss: 0.2940 - accuracy: 0.8787 - val_loss: 0.3564 - val_accuracy: 0.8486\n",
      "Epoch 4/4\n",
      "196/196 [==============================] - 83s 424ms/step - loss: 0.2530 - accuracy: 0.8994 - val_loss: 0.3726 - val_accuracy: 0.8379\n"
     ]
    },
    {
     "data": {
      "text/plain": [
       "<keras.src.callbacks.History at 0x1bb0dcaff90>"
      ]
     },
     "execution_count": 59,
     "metadata": {},
     "output_type": "execute_result"
    }
   ],
   "source": [
    "model.fit(x_train, y_train, batch_size=batch_size, epochs=epochs, verbose=1, validation_data=(x_valid, y_valid), callbacks=[modelcheckpoint])"
   ]
  },
  {
   "cell_type": "code",
   "execution_count": 61,
   "id": "34a4edad-4a1d-4bb0-95eb-99d380ebc61a",
   "metadata": {
    "tags": []
   },
   "outputs": [
    {
     "name": "stdout",
     "output_type": "stream",
     "text": [
      "782/782 [==============================] - 30s 37ms/step\n"
     ]
    },
    {
     "data": {
      "image/png": "[encoded data removed]",
      "text/plain": [
       "<Figure size 640x480 with 1 Axes>"
      ]
     },
     "metadata": {},
     "output_type": "display_data"
    }
   ],
   "source": [
    "model.load_weights(output_dir+\"/weights.02.hdf5\")\n",
    "y_hat = model.predict(x_valid)\n",
    "\n",
    "plt.hist(y_hat)\n",
    "_ = plt.axvline(x=0.5, color='orange')\n"
   ]
  },
  {
   "cell_type": "code",
   "execution_count": 62,
   "id": "00c2426a-b4e5-4f2a-a06f-2db92de6455e",
   "metadata": {
    "tags": []
   },
   "outputs": [
    {
     "data": {
      "text/plain": [
       "'92.48'"
      ]
     },
     "execution_count": 62,
     "metadata": {},
     "output_type": "execute_result"
    }
   ],
   "source": [
    "\"{:0.2f}\".format(roc_auc_score(y_valid, y_hat)*100.0)"
   ]
  },
  {
   "cell_type": "markdown",
   "id": "da2a89b5-120d-49c7-9ba8-5649a394f26c",
   "metadata": {},
   "source": [
    "## Stacked"
   ]
  },
  {
   "cell_type": "code",
   "execution_count": 63,
   "id": "ea191676-1141-4c2c-b4f4-b83e0aa9ebb5",
   "metadata": {
    "tags": []
   },
   "outputs": [
    {
     "name": "stdout",
     "output_type": "stream",
     "text": [
      "Model: \"sequential_7\"\n",
      "_________________________________________________________________\n",
      " Layer (type)                Output Shape              Param #   \n",
      "=================================================================\n",
      " embedding_7 (Embedding)     (None, 100, 64)           640000    \n",
      "                                                                 \n",
      " spatial_dropout1d_5 (Spati  (None, 100, 64)           0         \n",
      " alDropout1D)                                                    \n",
      "                                                                 \n",
      " bidirectional_1 (Bidirecti  (None, 100, 128)          66048     \n",
      " onal)                                                           \n",
      "                                                                 \n",
      " bidirectional_2 (Bidirecti  (None, 128)               98816     \n",
      " onal)                                                           \n",
      "                                                                 \n",
      " dense_6 (Dense)             (None, 1)                 129       \n",
      "                                                                 \n",
      "=================================================================\n",
      "Total params: 804993 (3.07 MB)\n",
      "Trainable params: 804993 (3.07 MB)\n",
      "Non-trainable params: 0 (0.00 Byte)\n",
      "_________________________________________________________________\n"
     ]
    }
   ],
   "source": [
    "# stacked \n",
    "\n",
    "model = Sequential()\n",
    "model.add(Embedding(n_unique_words, n_dim, input_length=max_review_length)) \n",
    "model.add(SpatialDropout1D(drop_embed))\n",
    "model.add(Bidirectional(LSTM(n_lstm_1, dropout=drop_lstm, \n",
    "                             return_sequences=True))) \n",
    "model.add(Bidirectional(LSTM(n_lstm_2, dropout=drop_lstm)))\n",
    "model.add(Dense(1, activation='sigmoid'))\n",
    "\n",
    "model.summary()"
   ]
  },
  {
   "cell_type": "code",
   "execution_count": 64,
   "id": "ba6685cb-ee18-4bd8-a593-4e8c2d137bb0",
   "metadata": {
    "tags": []
   },
   "outputs": [],
   "source": [
    "model.compile(loss='binary_crossentropy', optimizer='adam', metrics=['accuracy'])\n",
    "\n",
    "modelcheckpoint = ModelCheckpoint(filepath=output_dir+\"/weights.{epoch:02d}.hdf5\")\n",
    "if not os.path.exists(output_dir):\n",
    "    os.makedirs(output_dir)"
   ]
  },
  {
   "cell_type": "code",
   "execution_count": 65,
   "id": "40e05d56-0f4b-4e4d-a96c-524c8d50158f",
   "metadata": {
    "tags": []
   },
   "outputs": [
    {
     "name": "stdout",
     "output_type": "stream",
     "text": [
      "Epoch 1/4\n",
      "196/196 [==============================] - 135s 652ms/step - loss: 0.4697 - accuracy: 0.7551 - val_loss: 0.3460 - val_accuracy: 0.8477\n",
      "Epoch 2/4\n"
     ]
    },
    {
     "name": "stderr",
     "output_type": "stream",
     "text": [
      "C:\\Users\\sethw\\anaconda3\\Lib\\site-packages\\keras\\src\\engine\\training.py:3000: UserWarning: You are saving your model as an HDF5 file via `model.save()`. This file format is considered legacy. We recommend using instead the native Keras format, e.g. `model.save('my_model.keras')`.\n",
      "  saving_api.save_model(\n"
     ]
    },
    {
     "name": "stdout",
     "output_type": "stream",
     "text": [
      "196/196 [==============================] - 135s 690ms/step - loss: 0.3060 - accuracy: 0.8744 - val_loss: 0.3458 - val_accuracy: 0.8510\n",
      "Epoch 3/4\n",
      "196/196 [==============================] - 150s 764ms/step - loss: 0.2610 - accuracy: 0.8943 - val_loss: 0.3624 - val_accuracy: 0.8424\n",
      "Epoch 4/4\n",
      "196/196 [==============================] - 142s 725ms/step - loss: 0.2259 - accuracy: 0.9106 - val_loss: 0.3902 - val_accuracy: 0.8361\n"
     ]
    },
    {
     "data": {
      "text/plain": [
       "<keras.src.callbacks.History at 0x1bb0fa7a0d0>"
      ]
     },
     "execution_count": 65,
     "metadata": {},
     "output_type": "execute_result"
    }
   ],
   "source": [
    "model.fit(x_train, y_train, batch_size=batch_size, epochs=epochs, verbose=1, validation_data=(x_valid, y_valid), callbacks=[modelcheckpoint])"
   ]
  },
  {
   "cell_type": "code",
   "execution_count": 66,
   "id": "101b6f4b-0103-4946-beaf-3dfdf2c008e4",
   "metadata": {
    "tags": []
   },
   "outputs": [
    {
     "name": "stdout",
     "output_type": "stream",
     "text": [
      "782/782 [==============================] - 37s 45ms/step\n"
     ]
    },
    {
     "data": {
      "image/png": "[encoded data removed]",
      "text/plain": [
       "<Figure size 640x480 with 1 Axes>"
      ]
     },
     "metadata": {},
     "output_type": "display_data"
    }
   ],
   "source": [
    "model.load_weights(output_dir+\"/weights.02.hdf5\")\n",
    "y_hat = model.predict(x_valid)\n",
    "\n",
    "plt.hist(y_hat)\n",
    "_ = plt.axvline(x=0.5, color='orange')"
   ]
  },
  {
   "cell_type": "code",
   "execution_count": 67,
   "id": "5b2d0d6a-9028-48e1-b9da-f5808814c78e",
   "metadata": {
    "tags": []
   },
   "outputs": [
    {
     "data": {
      "text/plain": [
       "'92.99'"
      ]
     },
     "execution_count": 67,
     "metadata": {},
     "output_type": "execute_result"
    }
   ],
   "source": [
    "\"{:0.2f}\".format(roc_auc_score(y_valid, y_hat)*100.0)"
   ]
  },
  {
   "cell_type": "code",
   "execution_count": null,
   "id": "e4dba037-7949-49bd-839f-c18cc0abcd9e",
   "metadata": {},
   "outputs": [],
   "source": []
  }
 ],
 "metadata": {
  "kernelspec": {
   "display_name": "Python 3 (ipykernel)",
   "language": "python",
   "name": "python3"
  },
  "language_info": {
   "codemirror_mode": {
    "name": "ipython",
    "version": 3
   },
   "file_extension": ".py",
   "mimetype": "text/x-python",
   "name": "python",
   "nbconvert_exporter": "python",
   "pygments_lexer": "ipython3",
   "version": "3.11.3"
  }
 },
 "nbformat": 4,
 "nbformat_minor": 5
}
